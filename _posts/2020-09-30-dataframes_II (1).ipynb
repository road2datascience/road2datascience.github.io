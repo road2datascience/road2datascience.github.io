{
 "cells": [
  {
   "cell_type": "markdown",
   "metadata": {},
   "source": [
    "# SparkSQL y Spark DataFrames"
   ]
  },
  {
   "cell_type": "markdown",
   "metadata": {},
   "source": [
    "`SparkSQL` además de permitirnos interactuar usando `SQL` (en realidad `HQL` _Hive query language_, ver documentación [aquí](https://cwiki.apache.org/confluence/display/Hive/LanguageManual)), agrega una capa de abstracción al `RDD` y lo convierte en un `DataFrame` análogo al usado en `R` y `Python`.\n",
    "\n",
    "Se recomienda tomar como referencia el siguiente link : http://spark.apache.org/docs/2.4.3/api/python/pyspark.sql.html"
   ]
  },
  {
   "cell_type": "markdown",
   "metadata": {},
   "source": [
    "Como siempre, empezamos obtniendo el `SparkContext`"
   ]
  },
  {
   "cell_type": "code",
   "execution_count": 3,
   "metadata": {},
   "outputs": [],
   "source": [
    "import pyspark\n",
    "sc = pyspark.SparkContext('local[*]')"
   ]
  },
  {
   "cell_type": "markdown",
   "metadata": {},
   "source": [
    "Pero además, obtendremos el `SQLContext` en esta ocasión"
   ]
  },
  {
   "cell_type": "code",
   "execution_count": 4,
   "metadata": {},
   "outputs": [],
   "source": [
    "sqlContext = pyspark.SQLContext(sc)"
   ]
  },
  {
   "cell_type": "markdown",
   "metadata": {},
   "source": [
    "## Creando un DataFrame"
   ]
  },
  {
   "cell_type": "markdown",
   "metadata": {},
   "source": [
    "Ahora leeremos el archivo de transacciones creado en el laboratorio anterior"
   ]
  },
  {
   "cell_type": "code",
   "execution_count": 5,
   "metadata": {},
   "outputs": [
    {
     "name": "stderr",
     "output_type": "stream",
     "text": [
      "\"ls\" no se reconoce como un comando interno o externo,\n",
      "programa o archivo por lotes ejecutable.\n"
     ]
    }
   ],
   "source": [
    "! ls -lh output/raw/transacciones"
   ]
  },
  {
   "cell_type": "markdown",
   "metadata": {},
   "source": [
    "**NOTA**: Si marca error la última instrucción, regresa al laboratorio anterior y crea de nuevo el archivo."
   ]
  },
  {
   "cell_type": "code",
   "execution_count": 6,
   "metadata": {},
   "outputs": [],
   "source": [
    "txs_rdd = sc.textFile(\"output/raw/transacciones\")"
   ]
  },
  {
   "cell_type": "code",
   "execution_count": 7,
   "metadata": {},
   "outputs": [
    {
     "data": {
      "text/plain": [
       "'fc746fc2-3160-4f83-b53e-fe020a8c6f9a|RESTAURANTE EL TRABAJO|COMPRA|9274'"
      ]
     },
     "execution_count": 7,
     "metadata": {},
     "output_type": "execute_result"
    }
   ],
   "source": [
    "txs_rdd.first()"
   ]
  },
  {
   "cell_type": "code",
   "execution_count": 8,
   "metadata": {},
   "outputs": [
    {
     "data": {
      "text/plain": [
       "pyspark.rdd.RDD"
      ]
     },
     "execution_count": 8,
     "metadata": {},
     "output_type": "execute_result"
    }
   ],
   "source": [
    "type(txs_rdd)"
   ]
  },
  {
   "cell_type": "markdown",
   "metadata": {},
   "source": [
    "Para poder obtener un `DataFrame` hay que extraer cada línea del `RDD` a un objeto `Row`"
   ]
  },
  {
   "cell_type": "code",
   "execution_count": 8,
   "metadata": {},
   "outputs": [],
   "source": [
    "from pyspark.sql import Row"
   ]
  },
  {
   "cell_type": "code",
   "execution_count": 9,
   "metadata": {},
   "outputs": [],
   "source": [
    "Transaccion = Row('tdc', 'comercio', 'accion', 'monto')"
   ]
  },
  {
   "cell_type": "code",
   "execution_count": 10,
   "metadata": {},
   "outputs": [],
   "source": [
    "def getTransaccion(linea):\n",
    "    cells = linea.split('|')\n",
    "    cells[3] = int(cells[3])\n",
    "    return Transaccion(*cells)\n"
   ]
  },
  {
   "cell_type": "code",
   "execution_count": 11,
   "metadata": {},
   "outputs": [],
   "source": [
    "txs = txs_rdd.map(getTransaccion)"
   ]
  },
  {
   "cell_type": "code",
   "execution_count": 12,
   "metadata": {},
   "outputs": [
    {
     "data": {
      "text/plain": [
       "Row(tdc='fc746fc2-3160-4f83-b53e-fe020a8c6f9a', comercio='RESTAURANTE EL TRABAJO', accion='COMPRA', monto=9274)"
      ]
     },
     "execution_count": 12,
     "metadata": {},
     "output_type": "execute_result"
    }
   ],
   "source": [
    "txs.first()"
   ]
  },
  {
   "cell_type": "code",
   "execution_count": 13,
   "metadata": {},
   "outputs": [],
   "source": [
    "txs_df = txs.toDF()\n",
    "#para obtener un dataframe de spark"
   ]
  },
  {
   "cell_type": "code",
   "execution_count": 14,
   "metadata": {},
   "outputs": [
    {
     "data": {
      "text/plain": [
       "DataFrame[tdc: string, comercio: string, accion: string, monto: bigint]"
      ]
     },
     "execution_count": 14,
     "metadata": {},
     "output_type": "execute_result"
    }
   ],
   "source": [
    "txs_df"
   ]
  },
  {
   "cell_type": "code",
   "execution_count": 20,
   "metadata": {},
   "outputs": [
    {
     "data": {
      "text/plain": [
       "PythonRDD[9] at RDD at PythonRDD.scala:53"
      ]
     },
     "execution_count": 20,
     "metadata": {},
     "output_type": "execute_result"
    }
   ],
   "source": [
    "txs"
   ]
  },
  {
   "cell_type": "code",
   "execution_count": 21,
   "metadata": {},
   "outputs": [
    {
     "name": "stdout",
     "output_type": "stream",
     "text": [
      "root\n",
      " |-- tdc: string (nullable = true)\n",
      " |-- comercio: string (nullable = true)\n",
      " |-- accion: string (nullable = true)\n",
      " |-- monto: long (nullable = true)\n",
      "\n"
     ]
    }
   ],
   "source": [
    "txs_df.printSchema()"
   ]
  },
  {
   "cell_type": "code",
   "execution_count": 22,
   "metadata": {},
   "outputs": [
    {
     "name": "stdout",
     "output_type": "stream",
     "text": [
      "+--------------------+--------------------+------+-----+\n",
      "|                 tdc|            comercio|accion|monto|\n",
      "+--------------------+--------------------+------+-----+\n",
      "|fc746fc2-3160-4f8...|RESTAURANTE EL TR...|COMPRA| 9274|\n",
      "|e434d65e-cb57-43e...|RESTAURANTE EL TR...|COMPRA|  702|\n",
      "|e434d65e-cb57-43e...|       ARENA COLISEO|COMPRA| 3070|\n",
      "|8ef61de7-b609-4e6...|           SUPERCITO|COMPRA| 2128|\n",
      "|fc746fc2-3160-4f8...|RESTAURANTE EL TR...|RETIRO| 4397|\n",
      "|8ef61de7-b609-4e6...|RESTAURANTE EL TR...|RETIRO| 9042|\n",
      "|cb679bdc-e5c4-476...|       ARENA COLISEO|RETIRO| 4549|\n",
      "|8ef61de7-b609-4e6...|       ARENA COLISEO|RETIRO|  466|\n",
      "|8ef61de7-b609-4e6...|           SUPERCITO|COMPRA| 8565|\n",
      "|cb679bdc-e5c4-476...|       ARENA COLISEO|COMPRA| 1015|\n",
      "|fc746fc2-3160-4f8...|RESTAURANTE EL TR...|COMPRA| 4119|\n",
      "|e434d65e-cb57-43e...|       ARENA COLISEO|RETIRO| 8176|\n",
      "|d03e74dd-0666-441...|RESTAURANTE EL TR...|RETIRO| 6224|\n",
      "|8ef61de7-b609-4e6...|       ARENA COLISEO|COMPRA| 2085|\n",
      "|8ef61de7-b609-4e6...|       ARENA COLISEO|RETIRO| 1479|\n",
      "|e434d65e-cb57-43e...|RESTAURANTE EL TR...|RETIRO| 1020|\n",
      "|cb679bdc-e5c4-476...|       ARENA COLISEO|RETIRO| 3288|\n",
      "|e434d65e-cb57-43e...|           SUPERCITO|RETIRO| 9743|\n",
      "|d03e74dd-0666-441...|           SUPERCITO|RETIRO| 2761|\n",
      "|e434d65e-cb57-43e...|RESTAURANTE EL TR...|COMPRA| 5106|\n",
      "+--------------------+--------------------+------+-----+\n",
      "only showing top 20 rows\n",
      "\n"
     ]
    }
   ],
   "source": [
    "txs_df.show()"
   ]
  },
  {
   "cell_type": "markdown",
   "metadata": {},
   "source": [
    "## Registrando una tabla"
   ]
  },
  {
   "cell_type": "markdown",
   "metadata": {},
   "source": [
    "Al tener un `DataFrame` es posible usar la `API` o usar `SQL`. Para mostrarlo, primero registremos la tabla"
   ]
  },
  {
   "cell_type": "code",
   "execution_count": 23,
   "metadata": {},
   "outputs": [],
   "source": [
    "txs_df.registerTempTable('txs')"
   ]
  },
  {
   "cell_type": "code",
   "execution_count": 24,
   "metadata": {},
   "outputs": [
    {
     "name": "stdout",
     "output_type": "stream",
     "text": [
      "+--------+---------+-----------+\n",
      "|database|tableName|isTemporary|\n",
      "+--------+---------+-----------+\n",
      "|        |      txs|       true|\n",
      "+--------+---------+-----------+\n",
      "\n"
     ]
    }
   ],
   "source": [
    "sqlContext.sql(\"show tables\").show()"
   ]
  },
  {
   "cell_type": "code",
   "execution_count": 26,
   "metadata": {},
   "outputs": [
    {
     "name": "stdout",
     "output_type": "stream",
     "text": [
      "+--------------------+--------------------+------+-----+\n",
      "|                 tdc|            comercio|accion|monto|\n",
      "+--------------------+--------------------+------+-----+\n",
      "|fc746fc2-3160-4f8...|RESTAURANTE EL TR...|COMPRA| 9274|\n",
      "|e434d65e-cb57-43e...|RESTAURANTE EL TR...|COMPRA|  702|\n",
      "|e434d65e-cb57-43e...|       ARENA COLISEO|COMPRA| 3070|\n",
      "|8ef61de7-b609-4e6...|           SUPERCITO|COMPRA| 2128|\n",
      "|fc746fc2-3160-4f8...|RESTAURANTE EL TR...|RETIRO| 4397|\n",
      "+--------------------+--------------------+------+-----+\n",
      "\n"
     ]
    }
   ],
   "source": [
    "sqlContext.sql(\"select * from txs limit 5\").show()"
   ]
  },
  {
   "cell_type": "markdown",
   "metadata": {},
   "source": [
    "Ahora que `txs` ya tiene esquema, es buena idea guardarlo"
   ]
  },
  {
   "cell_type": "code",
   "execution_count": 27,
   "metadata": {},
   "outputs": [],
   "source": [
    "sqlContext.sql(\"select * from txs\")\\\n",
    "          .coalesce(1)\\\n",
    "          .write.format(\"parquet\")\\\n",
    "          .save(\"output/parquet/transacciones\", mode=\"OVERWRITE\")"
   ]
  },
  {
   "cell_type": "code",
   "execution_count": 28,
   "metadata": {},
   "outputs": [],
   "source": [
    "sqlContext.sql(\"select * from txs\")\\\n",
    "          .coalesce(1)\\\n",
    "          .write.format(\"json\")\\\n",
    "          .save(\"output/json/transacciones\", mode=\"OVERWRITE\")"
   ]
  },
  {
   "cell_type": "markdown",
   "metadata": {},
   "source": [
    " ## Usando la API"
   ]
  },
  {
   "cell_type": "markdown",
   "metadata": {},
   "source": [
    "Al igual que los `RDD`s, los `DataFrames` pueden ser operados mediante _transformaciones_ y _acciones_. Las **Transformaciones** son _lazy_ pero contribuyen a la planeación de la ejecución del _query_, las **Acciones** provocan la ejecución del _query_"
   ]
  },
  {
   "cell_type": "markdown",
   "metadata": {},
   "source": [
    "### Transformaciones\n",
    "\n",
    "- `filter`\n",
    "- `select`\n",
    "- `drop`\n",
    "- `join`\n",
    "\n",
    "### Acciones\n",
    "\n",
    "- `count`\n",
    "- `collect`\n",
    "- `show`\n",
    "- `head`\n",
    "- `take`"
   ]
  },
  {
   "cell_type": "code",
   "execution_count": 30,
   "metadata": {},
   "outputs": [
    {
     "name": "stdout",
     "output_type": "stream",
     "text": [
      "+--------------------+------+-----+---------------+\n",
      "|                 tdc|accion|monto|(monto >= 5000)|\n",
      "+--------------------+------+-----+---------------+\n",
      "|fc746fc2-3160-4f8...|COMPRA| 9274|           true|\n",
      "|e434d65e-cb57-43e...|COMPRA|  702|          false|\n",
      "|e434d65e-cb57-43e...|COMPRA| 3070|          false|\n",
      "|8ef61de7-b609-4e6...|COMPRA| 2128|          false|\n",
      "|fc746fc2-3160-4f8...|RETIRO| 4397|          false|\n",
      "+--------------------+------+-----+---------------+\n",
      "only showing top 5 rows\n",
      "\n"
     ]
    }
   ],
   "source": [
    "txs_df.select(txs_df['tdc'], txs_df['accion'], txs_df['monto'], txs_df['monto'] >= 5000).show(5)"
   ]
  },
  {
   "cell_type": "code",
   "execution_count": 31,
   "metadata": {},
   "outputs": [
    {
     "name": "stdout",
     "output_type": "stream",
     "text": [
      "+--------------------+------+-----+-------------------------------+\n",
      "|                 tdc|accion|monto|(monto >= CAST(5000 AS BIGINT))|\n",
      "+--------------------+------+-----+-------------------------------+\n",
      "|fc746fc2-3160-4f8...|COMPRA| 9274|                           true|\n",
      "|e434d65e-cb57-43e...|COMPRA|  702|                          false|\n",
      "|e434d65e-cb57-43e...|COMPRA| 3070|                          false|\n",
      "|8ef61de7-b609-4e6...|COMPRA| 2128|                          false|\n",
      "|fc746fc2-3160-4f8...|RETIRO| 4397|                          false|\n",
      "+--------------------+------+-----+-------------------------------+\n",
      "only showing top 5 rows\n",
      "\n"
     ]
    }
   ],
   "source": [
    "sqlContext.sql(\"select tdc, accion, monto, monto >= 5000 from txs\").show(5)"
   ]
  },
  {
   "cell_type": "code",
   "execution_count": 32,
   "metadata": {},
   "outputs": [
    {
     "name": "stdout",
     "output_type": "stream",
     "text": [
      "+--------------------+--------------------+-----+\n",
      "|                 tdc|            comercio|monto|\n",
      "+--------------------+--------------------+-----+\n",
      "|cb679bdc-e5c4-476...|       ARENA COLISEO| 9996|\n",
      "|fc746fc2-3160-4f8...|RESTAURANTE EL TR...| 9988|\n",
      "|d03e74dd-0666-441...|RESTAURANTE EL TR...| 9986|\n",
      "|d03e74dd-0666-441...|RESTAURANTE EL TR...| 9986|\n",
      "|cb679bdc-e5c4-476...|RESTAURANTE EL TR...| 9984|\n",
      "+--------------------+--------------------+-----+\n",
      "only showing top 5 rows\n",
      "\n"
     ]
    }
   ],
   "source": [
    "txs_df.filter((txs_df[\"monto\"] >= 5000) & (txs_df[\"accion\"] == \"RETIRO\"))\\\n",
    "      .select(txs_df[\"tdc\"], txs_df[\"comercio\"], txs_df[\"monto\"])\\\n",
    "      .orderBy(txs_df[\"monto\"].desc())\\\n",
    "      .show(5)"
   ]
  },
  {
   "cell_type": "markdown",
   "metadata": {},
   "source": [
    "**NOTA**: `where()` es un _alias_ para `filter()`"
   ]
  },
  {
   "cell_type": "code",
   "execution_count": 33,
   "metadata": {
    "scrolled": true
   },
   "outputs": [
    {
     "name": "stdout",
     "output_type": "stream",
     "text": [
      "+--------------------+--------------------+-----+\n",
      "|                 tdc|            comercio|monto|\n",
      "+--------------------+--------------------+-----+\n",
      "|8ef61de7-b609-4e6...|RESTAURANTE EL TR...| 9042|\n",
      "|e434d65e-cb57-43e...|       ARENA COLISEO| 8176|\n",
      "|d03e74dd-0666-441...|RESTAURANTE EL TR...| 6224|\n",
      "|e434d65e-cb57-43e...|           SUPERCITO| 9743|\n",
      "|cb679bdc-e5c4-476...|       ARENA COLISEO| 7390|\n",
      "+--------------------+--------------------+-----+\n",
      "only showing top 5 rows\n",
      "\n"
     ]
    }
   ],
   "source": [
    "txs_df.where((txs_df[\"monto\"] >= 5000) & (txs_df[\"accion\"] == \"RETIRO\"))\\\n",
    "      .select(txs_df[\"tdc\"], txs_df[\"comercio\"], txs_df[\"monto\"])\\\n",
    "      .show(5)"
   ]
  },
  {
   "cell_type": "markdown",
   "metadata": {},
   "source": [
    "También es posible usar `strings` para el condicional"
   ]
  },
  {
   "cell_type": "code",
   "execution_count": 34,
   "metadata": {},
   "outputs": [
    {
     "name": "stdout",
     "output_type": "stream",
     "text": [
      "+--------------------+--------------------+-----+\n",
      "|                 tdc|            comercio|monto|\n",
      "+--------------------+--------------------+-----+\n",
      "|cb679bdc-e5c4-476...|       ARENA COLISEO| 5002|\n",
      "|fc746fc2-3160-4f8...|           SUPERCITO| 5002|\n",
      "|8ef61de7-b609-4e6...|           SUPERCITO| 5004|\n",
      "|e434d65e-cb57-43e...|RESTAURANTE EL TR...| 5005|\n",
      "|fc746fc2-3160-4f8...|RESTAURANTE EL TR...| 5005|\n",
      "+--------------------+--------------------+-----+\n",
      "only showing top 5 rows\n",
      "\n"
     ]
    }
   ],
   "source": [
    "txs_df.filter(\"monto >= 5000 and accion = 'RETIRO'\")\\\n",
    "      .select(txs_df[\"tdc\"], txs_df[\"comercio\"], txs_df[\"monto\"])\\\n",
    "      .orderBy(txs_df[\"monto\"].asc())\\\n",
    "      .show(5)"
   ]
  },
  {
   "cell_type": "code",
   "execution_count": 35,
   "metadata": {},
   "outputs": [
    {
     "name": "stdout",
     "output_type": "stream",
     "text": [
      "+--------------------+-----+\n",
      "|                 tdc|count|\n",
      "+--------------------+-----+\n",
      "|cb679bdc-e5c4-476...| 1922|\n",
      "|e434d65e-cb57-43e...| 2000|\n",
      "|fc746fc2-3160-4f8...| 1987|\n",
      "|8ef61de7-b609-4e6...| 2037|\n",
      "|d03e74dd-0666-441...| 2054|\n",
      "+--------------------+-----+\n",
      "\n"
     ]
    }
   ],
   "source": [
    "txs_df.groupBy(\"tdc\").count().show(5)"
   ]
  },
  {
   "cell_type": "markdown",
   "metadata": {},
   "source": [
    "### Agregaciones"
   ]
  },
  {
   "cell_type": "code",
   "execution_count": 36,
   "metadata": {},
   "outputs": [],
   "source": [
    "from pyspark.sql.functions import sum, avg, max, min, round, count, col\n"
   ]
  },
  {
   "cell_type": "code",
   "execution_count": 37,
   "metadata": {},
   "outputs": [
    {
     "name": "stdout",
     "output_type": "stream",
     "text": [
      "+--------------------+-------+\n",
      "|                 tdc|cant_tx|\n",
      "+--------------------+-------+\n",
      "|cb679bdc-e5c4-476...|   1922|\n",
      "|e434d65e-cb57-43e...|   2000|\n",
      "|fc746fc2-3160-4f8...|   1987|\n",
      "|8ef61de7-b609-4e6...|   2037|\n",
      "|d03e74dd-0666-441...|   2054|\n",
      "+--------------------+-------+\n",
      "\n"
     ]
    }
   ],
   "source": [
    "# otra manera de escribir el count usando groupBy y agg\n",
    "txs_df.groupBy(\"tdc\").agg(count('tdc').alias('cant_tx')).show(5)"
   ]
  },
  {
   "cell_type": "code",
   "execution_count": 38,
   "metadata": {},
   "outputs": [
    {
     "name": "stdout",
     "output_type": "stream",
     "text": [
      "+--------------------+-----------------+\n",
      "|            comercio|   monto_promedio|\n",
      "+--------------------+-----------------+\n",
      "|           SUPERCITO|4951.982918789332|\n",
      "|RESTAURANTE EL TR...|4986.653122198984|\n",
      "|       ARENA COLISEO|5074.468335343788|\n",
      "+--------------------+-----------------+\n",
      "\n"
     ]
    }
   ],
   "source": [
    "# Para cada comercio obtener el monto promedio de transacción (no importa si es RETIRO o COMPRA)\n",
    "txs_df.groupBy('comercio').agg(avg('monto').alias('monto_promedio')).show()"
   ]
  },
  {
   "cell_type": "markdown",
   "metadata": {},
   "source": [
    "### Ejercicio\n",
    "Para cada comercio obtener y mostrar los máximos montos por acción."
   ]
  },
  {
   "cell_type": "code",
   "execution_count": 39,
   "metadata": {},
   "outputs": [
    {
     "name": "stdout",
     "output_type": "stream",
     "text": [
      "+--------------------+------+----------+\n",
      "|            comercio|accion|max(monto)|\n",
      "+--------------------+------+----------+\n",
      "|           SUPERCITO|COMPRA|      9999|\n",
      "|           SUPERCITO|RETIRO|      9983|\n",
      "|       ARENA COLISEO|RETIRO|      9996|\n",
      "|RESTAURANTE EL TR...|COMPRA|      9986|\n",
      "|RESTAURANTE EL TR...|RETIRO|      9988|\n",
      "|       ARENA COLISEO|COMPRA|      9984|\n",
      "+--------------------+------+----------+\n",
      "\n"
     ]
    }
   ],
   "source": [
    "txs_df.groupby('comercio','accion').agg(max('monto')).show()"
   ]
  },
  {
   "cell_type": "markdown",
   "metadata": {},
   "source": [
    "### Ejercicio\n",
    "Obtener y mostrar los 10 clientes con mas transacciones por comercio ordenados de manera descendente"
   ]
  },
  {
   "cell_type": "code",
   "execution_count": 40,
   "metadata": {},
   "outputs": [],
   "source": [
    "df1 = txs_df.groupBy('tdc','comercio').agg(count('tdc').alias('cantidad_tx'))"
   ]
  },
  {
   "cell_type": "code",
   "execution_count": 41,
   "metadata": {},
   "outputs": [
    {
     "name": "stdout",
     "output_type": "stream",
     "text": [
      "+------------------------------------+----------------------+-----------+\n",
      "|tdc                                 |comercio              |cantidad_tx|\n",
      "+------------------------------------+----------------------+-----------+\n",
      "|e434d65e-cb57-43ef-a16e-b3a6ee226144|RESTAURANTE EL TRABAJO|710        |\n",
      "|d03e74dd-0666-4418-bec6-df04651842ba|ARENA COLISEO         |702        |\n",
      "|d03e74dd-0666-4418-bec6-df04651842ba|SUPERCITO             |694        |\n",
      "|8ef61de7-b609-4e65-9e0b-fd00eb8251a8|SUPERCITO             |688        |\n",
      "|8ef61de7-b609-4e65-9e0b-fd00eb8251a8|ARENA COLISEO         |676        |\n",
      "|8ef61de7-b609-4e65-9e0b-fd00eb8251a8|RESTAURANTE EL TRABAJO|673        |\n",
      "|fc746fc2-3160-4f83-b53e-fe020a8c6f9a|SUPERCITO             |668        |\n",
      "|fc746fc2-3160-4f83-b53e-fe020a8c6f9a|ARENA COLISEO         |661        |\n",
      "|d03e74dd-0666-4418-bec6-df04651842ba|RESTAURANTE EL TRABAJO|658        |\n",
      "|fc746fc2-3160-4f83-b53e-fe020a8c6f9a|RESTAURANTE EL TRABAJO|658        |\n",
      "+------------------------------------+----------------------+-----------+\n",
      "only showing top 10 rows\n",
      "\n"
     ]
    }
   ],
   "source": [
    "df1.orderBy(df1['cantidad_tx'].desc()).show(10,truncate=False)"
   ]
  },
  {
   "cell_type": "markdown",
   "metadata": {},
   "source": [
    "### User Defined Functions: UDF"
   ]
  },
  {
   "cell_type": "markdown",
   "metadata": {},
   "source": [
    "Supongamos que queremos mostrar el  `tdc` en mayúsculas, para tal menester es necesario definir una `UDF`"
   ]
  },
  {
   "cell_type": "code",
   "execution_count": 42,
   "metadata": {},
   "outputs": [],
   "source": [
    "from pyspark.sql.functions import udf\n",
    "to_upper = udf(lambda s: s.upper())"
   ]
  },
  {
   "cell_type": "code",
   "execution_count": 43,
   "metadata": {},
   "outputs": [
    {
     "name": "stdout",
     "output_type": "stream",
     "text": [
      "+--------------------+--------------------+\n",
      "|          Mayúsculas|                 tdc|\n",
      "+--------------------+--------------------+\n",
      "|8EF61DE7-B609-4E6...|8ef61de7-b609-4e6...|\n",
      "|CB679BDC-E5C4-476...|cb679bdc-e5c4-476...|\n",
      "|D03E74DD-0666-441...|d03e74dd-0666-441...|\n",
      "|FC746FC2-3160-4F8...|fc746fc2-3160-4f8...|\n",
      "|E434D65E-CB57-43E...|e434d65e-cb57-43e...|\n",
      "+--------------------+--------------------+\n",
      "\n"
     ]
    }
   ],
   "source": [
    "txs_df.select(to_upper(txs_df[\"tdc\"]).alias(\"Mayúsculas\"), txs_df[\"tdc\"])\\\n",
    "      .distinct()\\\n",
    "      .show(100) "
   ]
  },
  {
   "cell_type": "markdown",
   "metadata": {},
   "source": [
    "### Ejercicio\n",
    "Usando una udf, generar un nuevo dataframe (txs_df2) con una nueva columna (prefijo_tdc) que tenga el primer segmento de tdc y mostrarlo"
   ]
  },
  {
   "cell_type": "code",
   "execution_count": 44,
   "metadata": {},
   "outputs": [],
   "source": [
    "cortar = lambda s: s.split('-')[0] #nos quedamos con el primer elemento"
   ]
  },
  {
   "cell_type": "code",
   "execution_count": 45,
   "metadata": {},
   "outputs": [],
   "source": [
    "pref_tdc = udf(lambda s: s.split('-')[0])"
   ]
  },
  {
   "cell_type": "code",
   "execution_count": 46,
   "metadata": {},
   "outputs": [],
   "source": [
    "txs_df2 = txs_df.select ('*',pref_tdc(txs_df['tdc']).alias('prefijo_tdc'))"
   ]
  },
  {
   "cell_type": "code",
   "execution_count": 47,
   "metadata": {},
   "outputs": [
    {
     "name": "stdout",
     "output_type": "stream",
     "text": [
      "+--------------------+--------------------+------+-----+-----------+\n",
      "|                 tdc|            comercio|accion|monto|prefijo_tdc|\n",
      "+--------------------+--------------------+------+-----+-----------+\n",
      "|fc746fc2-3160-4f8...|RESTAURANTE EL TR...|COMPRA| 9274|   fc746fc2|\n",
      "|e434d65e-cb57-43e...|RESTAURANTE EL TR...|COMPRA|  702|   e434d65e|\n",
      "|e434d65e-cb57-43e...|       ARENA COLISEO|COMPRA| 3070|   e434d65e|\n",
      "|8ef61de7-b609-4e6...|           SUPERCITO|COMPRA| 2128|   8ef61de7|\n",
      "|fc746fc2-3160-4f8...|RESTAURANTE EL TR...|RETIRO| 4397|   fc746fc2|\n",
      "|8ef61de7-b609-4e6...|RESTAURANTE EL TR...|RETIRO| 9042|   8ef61de7|\n",
      "|cb679bdc-e5c4-476...|       ARENA COLISEO|RETIRO| 4549|   cb679bdc|\n",
      "|8ef61de7-b609-4e6...|       ARENA COLISEO|RETIRO|  466|   8ef61de7|\n",
      "|8ef61de7-b609-4e6...|           SUPERCITO|COMPRA| 8565|   8ef61de7|\n",
      "|cb679bdc-e5c4-476...|       ARENA COLISEO|COMPRA| 1015|   cb679bdc|\n",
      "+--------------------+--------------------+------+-----+-----------+\n",
      "only showing top 10 rows\n",
      "\n"
     ]
    }
   ],
   "source": [
    "txs_df2.show(10)"
   ]
  },
  {
   "cell_type": "markdown",
   "metadata": {},
   "source": [
    "Imaginemos que sólo estamos interesados en aquellas transacciones que fueron `RETIRO`s en el `SUPERCITO` por montos mayores a `9000` ya que resultan sospechosos."
   ]
  },
  {
   "cell_type": "code",
   "execution_count": 48,
   "metadata": {},
   "outputs": [],
   "source": [
    "txs_sospechosas = txs_df.filter(\"monto >= 9000 and accion = 'RETIRO' and comercio = 'SUPERCITO'\")\\\n",
    "      .select(txs_df[\"tdc\"],  txs_df[\"monto\"])\\\n",
    "      .orderBy(txs_df[\"monto\"].desc())"
   ]
  },
  {
   "cell_type": "code",
   "execution_count": 51,
   "metadata": {},
   "outputs": [
    {
     "data": {
      "text/plain": [
       "148"
      ]
     },
     "execution_count": 51,
     "metadata": {},
     "output_type": "execute_result"
    }
   ],
   "source": [
    "txs_sospechosas.count()"
   ]
  },
  {
   "cell_type": "markdown",
   "metadata": {},
   "source": [
    "Guardemos la información para un posterior análisis"
   ]
  },
  {
   "cell_type": "code",
   "execution_count": 52,
   "metadata": {},
   "outputs": [],
   "source": [
    "txs_sospechosas.coalesce(1)\\\n",
    "               .write.format(\"json\")\\\n",
    "               .save(\"output/json/transacciones_sospechosas\", mode=\"OVERWRITE\")"
   ]
  },
  {
   "cell_type": "code",
   "execution_count": 53,
   "metadata": {},
   "outputs": [],
   "source": [
    "txs_sospechosas.coalesce(1)\\\n",
    "               .write.format(\"parquet\")\\\n",
    "               .save(\"output/parquet/transacciones_sospechosas\", mode=\"OVERWRITE\")"
   ]
  },
  {
   "cell_type": "code",
   "execution_count": null,
   "metadata": {},
   "outputs": [],
   "source": [
    "! ls -lh output/json/transacciones_sospechosas"
   ]
  },
  {
   "cell_type": "markdown",
   "metadata": {},
   "source": [
    "## DataFrame desde JSON"
   ]
  },
  {
   "cell_type": "markdown",
   "metadata": {},
   "source": [
    "Para esta sección usaremos los datos de proyectos soportados por el **Banco Mundial**"
   ]
  },
  {
   "cell_type": "code",
   "execution_count": null,
   "metadata": {},
   "outputs": [],
   "source": [
    "! rm -R data/world_bank*"
   ]
  },
  {
   "cell_type": "code",
   "execution_count": null,
   "metadata": {},
   "outputs": [],
   "source": [
    "! wget https://github.com/bradenrc/sparksql_pot/raw/master/world_bank.zip -P data/"
   ]
  },
  {
   "cell_type": "code",
   "execution_count": null,
   "metadata": {},
   "outputs": [],
   "source": [
    "! unzip data/world_bank.zip -d data/world_bank"
   ]
  },
  {
   "cell_type": "code",
   "execution_count": null,
   "metadata": {},
   "outputs": [],
   "source": [
    "! rm data/world_bank.zip"
   ]
  },
  {
   "cell_type": "markdown",
   "metadata": {},
   "source": [
    "Creamos el `DataFrame`"
   ]
  },
  {
   "cell_type": "code",
   "execution_count": 54,
   "metadata": {},
   "outputs": [],
   "source": [
    "world_bank = sqlContext.read.json(\"world_bank.json\")"
   ]
  },
  {
   "cell_type": "markdown",
   "metadata": {},
   "source": [
    "Automáticamente detecta el _esquema_ de la fuente de datos"
   ]
  },
  {
   "cell_type": "code",
   "execution_count": 55,
   "metadata": {},
   "outputs": [
    {
     "name": "stdout",
     "output_type": "stream",
     "text": [
      "root\n",
      " |-- _id: struct (nullable = true)\n",
      " |    |-- $oid: string (nullable = true)\n",
      " |-- approvalfy: string (nullable = true)\n",
      " |-- board_approval_month: string (nullable = true)\n",
      " |-- boardapprovaldate: timestamp (nullable = true)\n",
      " |-- borrower: string (nullable = true)\n",
      " |-- closingdate: timestamp (nullable = true)\n",
      " |-- country_namecode: string (nullable = true)\n",
      " |-- countrycode: string (nullable = true)\n",
      " |-- countryname: string (nullable = true)\n",
      " |-- countryshortname: string (nullable = true)\n",
      " |-- docty: string (nullable = true)\n",
      " |-- envassesmentcategorycode: string (nullable = true)\n",
      " |-- grantamt: long (nullable = true)\n",
      " |-- ibrdcommamt: long (nullable = true)\n",
      " |-- id: string (nullable = true)\n",
      " |-- idacommamt: long (nullable = true)\n",
      " |-- impagency: string (nullable = true)\n",
      " |-- lendinginstr: string (nullable = true)\n",
      " |-- lendinginstrtype: string (nullable = true)\n",
      " |-- lendprojectcost: long (nullable = true)\n",
      " |-- majorsector_percent: array (nullable = true)\n",
      " |    |-- element: struct (containsNull = true)\n",
      " |    |    |-- Name: string (nullable = true)\n",
      " |    |    |-- Percent: long (nullable = true)\n",
      " |-- mjsector_namecode: array (nullable = true)\n",
      " |    |-- element: struct (containsNull = true)\n",
      " |    |    |-- code: string (nullable = true)\n",
      " |    |    |-- name: string (nullable = true)\n",
      " |-- mjtheme: array (nullable = true)\n",
      " |    |-- element: string (containsNull = true)\n",
      " |-- mjtheme_namecode: array (nullable = true)\n",
      " |    |-- element: struct (containsNull = true)\n",
      " |    |    |-- code: string (nullable = true)\n",
      " |    |    |-- name: string (nullable = true)\n",
      " |-- mjthemecode: string (nullable = true)\n",
      " |-- prodline: string (nullable = true)\n",
      " |-- prodlinetext: string (nullable = true)\n",
      " |-- productlinetype: string (nullable = true)\n",
      " |-- project_abstract: struct (nullable = true)\n",
      " |    |-- cdata: string (nullable = true)\n",
      " |-- project_name: string (nullable = true)\n",
      " |-- projectdocs: array (nullable = true)\n",
      " |    |-- element: struct (containsNull = true)\n",
      " |    |    |-- DocDate: string (nullable = true)\n",
      " |    |    |-- DocType: string (nullable = true)\n",
      " |    |    |-- DocTypeDesc: string (nullable = true)\n",
      " |    |    |-- DocURL: string (nullable = true)\n",
      " |    |    |-- EntityID: string (nullable = true)\n",
      " |-- projectfinancialtype: string (nullable = true)\n",
      " |-- projectstatusdisplay: string (nullable = true)\n",
      " |-- regionname: string (nullable = true)\n",
      " |-- sector: array (nullable = true)\n",
      " |    |-- element: struct (containsNull = true)\n",
      " |    |    |-- Name: string (nullable = true)\n",
      " |-- sector1: struct (nullable = true)\n",
      " |    |-- Name: string (nullable = true)\n",
      " |    |-- Percent: long (nullable = true)\n",
      " |-- sector2: struct (nullable = true)\n",
      " |    |-- Name: string (nullable = true)\n",
      " |    |-- Percent: long (nullable = true)\n",
      " |-- sector3: struct (nullable = true)\n",
      " |    |-- Name: string (nullable = true)\n",
      " |    |-- Percent: long (nullable = true)\n",
      " |-- sector4: struct (nullable = true)\n",
      " |    |-- Name: string (nullable = true)\n",
      " |    |-- Percent: long (nullable = true)\n",
      " |-- sector_namecode: array (nullable = true)\n",
      " |    |-- element: struct (containsNull = true)\n",
      " |    |    |-- code: string (nullable = true)\n",
      " |    |    |-- name: string (nullable = true)\n",
      " |-- sectorcode: string (nullable = true)\n",
      " |-- source: string (nullable = true)\n",
      " |-- status: string (nullable = true)\n",
      " |-- supplementprojectflg: string (nullable = true)\n",
      " |-- theme1: struct (nullable = true)\n",
      " |    |-- Name: string (nullable = true)\n",
      " |    |-- Percent: long (nullable = true)\n",
      " |-- theme_namecode: array (nullable = true)\n",
      " |    |-- element: struct (containsNull = true)\n",
      " |    |    |-- code: string (nullable = true)\n",
      " |    |    |-- name: string (nullable = true)\n",
      " |-- themecode: string (nullable = true)\n",
      " |-- totalamt: long (nullable = true)\n",
      " |-- totalcommamt: long (nullable = true)\n",
      " |-- url: string (nullable = true)\n",
      "\n"
     ]
    }
   ],
   "source": [
    "world_bank.printSchema()"
   ]
  },
  {
   "cell_type": "markdown",
   "metadata": {},
   "source": [
    "La estructura es anidada (en lugar de bidimensional), pero observa que `Spark` no tuvo ningún problema."
   ]
  },
  {
   "cell_type": "code",
   "execution_count": 56,
   "metadata": {},
   "outputs": [],
   "source": [
    "world_bank.registerTempTable(\"world_bank_projects\")"
   ]
  },
  {
   "cell_type": "code",
   "execution_count": 57,
   "metadata": {},
   "outputs": [
    {
     "name": "stdout",
     "output_type": "stream",
     "text": [
      "+--------+-------------------+-----------+\n",
      "|database|          tableName|isTemporary|\n",
      "+--------+-------------------+-----------+\n",
      "|        |                txs|       true|\n",
      "|        |world_bank_projects|       true|\n",
      "+--------+-------------------+-----------+\n",
      "\n"
     ]
    }
   ],
   "source": [
    "sqlContext.sql('show tables').show()"
   ]
  },
  {
   "cell_type": "code",
   "execution_count": 58,
   "metadata": {},
   "outputs": [
    {
     "name": "stdout",
     "output_type": "stream",
     "text": [
      "+----------------+--------------------+---------+------------+\n",
      "|countryshortname|        project_name| totalamt|totalcommamt|\n",
      "+----------------+--------------------+---------+------------+\n",
      "|     Afghanistan|Afghanistan: Nati...|        0|   100000000|\n",
      "|     Afghanistan|Afghanistan Agric...|        0|    74730000|\n",
      "|     Afghanistan|Afghanistan: Safe...| 12500000|    12500000|\n",
      "|     Afghanistan|Afghanistan - Sec...| 55000000|    55000000|\n",
      "|     Afghanistan|AF: Development P...| 50000000|    50000000|\n",
      "|     Afghanistan|Afghanistan: Syst...|100000000|   100000000|\n",
      "|          Africa|Additional Financ...| 60000000|    60000000|\n",
      "|          Africa|West Africa  Regi...|        0|    10000000|\n",
      "|          Africa|West Africa Regio...| 60000000|    60000000|\n",
      "|          Africa|Southern Africa T...|213000000|   213000000|\n",
      "|          Africa|Nile Cooperation ...|        0|    15300000|\n",
      "|          Africa|RCIP4 - Regional ...| 22000000|    22000000|\n",
      "|          Africa|Regional Rusumo F...|339900000|   339900000|\n",
      "|          Africa|Agricultural Prod...| 90000000|    90000000|\n",
      "|          Africa|First Part of the...|203000000|   203000000|\n",
      "|          Africa|Building Resilien...|        0|     4630000|\n",
      "|          Africa|Fighting against ...|        0|     2000000|\n",
      "|         Albania|Albania MDTF for ...|        0|      350000|\n",
      "|         Albania|Second MDTF for C...|        0|     4170000|\n",
      "|         Albania|Water Resources a...| 40000000|    40000000|\n",
      "+----------------+--------------------+---------+------------+\n",
      "only showing top 20 rows\n",
      "\n"
     ]
    }
   ],
   "source": [
    "sqlContext.sql('select countryshortname, project_name, totalamt, totalcommamt from world_bank_projects order by countryshortname').show()"
   ]
  },
  {
   "cell_type": "code",
   "execution_count": 59,
   "metadata": {
    "scrolled": false
   },
   "outputs": [
    {
     "name": "stdout",
     "output_type": "stream",
     "text": [
      "+--------------------+------------+------------+\n",
      "|             country|num_projects|total_amount|\n",
      "+--------------------+------------+------------+\n",
      "|               India|          16|  2595700000|\n",
      "|              Brazil|           9|  2326200000|\n",
      "|           Indonesia|          19|  2045500000|\n",
      "|             Vietnam|          17|  1832400000|\n",
      "|          Bangladesh|          12|  1566500000|\n",
      "|               China|          19|  1540000000|\n",
      "|              Poland|           1|  1307800000|\n",
      "|              Turkey|           4|  1301000000|\n",
      "|            Ethiopia|           4|  1245000000|\n",
      "|             Nigeria|           7|  1220000000|\n",
      "|              Africa|          11|   987900000|\n",
      "|            Colombia|           3|   950000000|\n",
      "|               Kenya|           6|   875000000|\n",
      "|             Morocco|          12|   793200000|\n",
      "|            Pakistan|           9|   744000000|\n",
      "|             Myanmar|           3|   660000000|\n",
      "|          Mozambique|          11|   657000000|\n",
      "|            Tanzania|           8|   606460000|\n",
      "|Egypt, Arab Repub...|           2|   585400000|\n",
      "|             Tunisia|           4|   500000000|\n",
      "+--------------------+------------+------------+\n",
      "only showing top 20 rows\n",
      "\n"
     ]
    }
   ],
   "source": [
    "projects_by_country = sqlContext.sql('select countryshortname as country, count(project_name) as num_projects, sum(totalamt) as total_amount from world_bank_projects group by countryshortname order by total_amount desc')\n",
    "projects_by_country.show()"
   ]
  },
  {
   "cell_type": "code",
   "execution_count": 60,
   "metadata": {},
   "outputs": [
    {
     "name": "stdout",
     "output_type": "stream",
     "text": [
      "root\n",
      " |-- country: string (nullable = true)\n",
      " |-- num_projects: long (nullable = false)\n",
      " |-- total_amount: long (nullable = true)\n",
      "\n"
     ]
    }
   ],
   "source": [
    "projects_by_country.printSchema()"
   ]
  },
  {
   "cell_type": "markdown",
   "metadata": {},
   "source": [
    "### Ejercicio\n",
    "A partir del dataframe projects_by_country encontrar el monto promedio por proyecto para Uruguay y Bolivia"
   ]
  },
  {
   "cell_type": "code",
   "execution_count": 61,
   "metadata": {},
   "outputs": [
    {
     "name": "stdout",
     "output_type": "stream",
     "text": [
      "+-------+-----------------+\n",
      "|country|promedio_por_pais|\n",
      "+-------+-----------------+\n",
      "|Uruguay|           1.22E8|\n",
      "|Bolivia|            3.7E7|\n",
      "+-------+-----------------+\n",
      "\n"
     ]
    }
   ],
   "source": [
    "projects_by_country.filter((projects_by_country['country'] == 'Uruguay') | (projects_by_country['country'] == 'Bolivia')).select('country', (col('total_amount') / col('num_projects')).alias('promedio_por_pais')).show()"
   ]
  },
  {
   "cell_type": "markdown",
   "metadata": {},
   "source": [
    "### Ejercicio\n",
    "A partir del dataframe projects_by_country encontrar los 5 paises con mayores montos promedio"
   ]
  },
  {
   "cell_type": "code",
   "execution_count": 62,
   "metadata": {},
   "outputs": [],
   "source": [
    "df = projects_by_country"
   ]
  },
  {
   "cell_type": "code",
   "execution_count": 67,
   "metadata": {},
   "outputs": [],
   "source": [
    "df1 = df.select('country', (col('total_amount') / col('num_projects')).alias('promedio_por_pais'))"
   ]
  },
  {
   "cell_type": "code",
   "execution_count": 68,
   "metadata": {},
   "outputs": [
    {
     "name": "stdout",
     "output_type": "stream",
     "text": [
      "+-----------------------+-------------------+\n",
      "|country                |promedio_por_pais  |\n",
      "+-----------------------+-------------------+\n",
      "|Poland                 |1.3078E9           |\n",
      "|Turkey                 |3.2525E8           |\n",
      "|Colombia               |3.166666666666667E8|\n",
      "|Ethiopia               |3.1125E8           |\n",
      "|Egypt, Arab Republic of|2.927E8            |\n",
      "+-----------------------+-------------------+\n",
      "only showing top 5 rows\n",
      "\n"
     ]
    }
   ],
   "source": [
    "df1.orderBy(df1['promedio_por_pais'].desc()).show(5,truncate=False)"
   ]
  },
  {
   "cell_type": "markdown",
   "metadata": {},
   "source": [
    "## SparkSQL y Pandas"
   ]
  },
  {
   "cell_type": "markdown",
   "metadata": {},
   "source": [
    "Es posible usar `Pandas` para hacer análisis, pero hay que tomar en cuenta que esto manda _todo_ el `dataset` a un sólo nodo."
   ]
  },
  {
   "cell_type": "code",
   "execution_count": 89,
   "metadata": {},
   "outputs": [],
   "source": [
    "import pandas as pd"
   ]
  },
  {
   "cell_type": "code",
   "execution_count": 137,
   "metadata": {},
   "outputs": [],
   "source": [
    "projects_by_country_pd = projects_by_country.toPandas()"
   ]
  },
  {
   "cell_type": "code",
   "execution_count": 138,
   "metadata": {},
   "outputs": [
    {
     "data": {
      "text/plain": [
       "Index(['country', 'num_projects', 'total_amount'], dtype='object')"
      ]
     },
     "execution_count": 138,
     "metadata": {},
     "output_type": "execute_result"
    }
   ],
   "source": [
    "projects_by_country_pd.columns"
   ]
  },
  {
   "cell_type": "code",
   "execution_count": 139,
   "metadata": {},
   "outputs": [],
   "source": [
    "projects_by_country_pd=projects_by_country_pd.set_index(['country'])"
   ]
  },
  {
   "cell_type": "code",
   "execution_count": 140,
   "metadata": {},
   "outputs": [
    {
     "data": {
      "text/plain": [
       "country\n",
       "India                 16\n",
       "Brazil                 9\n",
       "Indonesia             19\n",
       "Vietnam               17\n",
       "Bangladesh            12\n",
       "                      ..\n",
       "Mongolia               2\n",
       "Namibia                1\n",
       "Jamaica                2\n",
       "West Bank and Gaza     6\n",
       "Vanuatu                3\n",
       "Name: num_projects, Length: 118, dtype: int64"
      ]
     },
     "execution_count": 140,
     "metadata": {},
     "output_type": "execute_result"
    }
   ],
   "source": [
    "projects_by_country_pd.num_projects"
   ]
  },
  {
   "cell_type": "code",
   "execution_count": 141,
   "metadata": {},
   "outputs": [
    {
     "data": {
      "text/html": [
       "<div>\n",
       "<style scoped>\n",
       "    .dataframe tbody tr th:only-of-type {\n",
       "        vertical-align: middle;\n",
       "    }\n",
       "\n",
       "    .dataframe tbody tr th {\n",
       "        vertical-align: top;\n",
       "    }\n",
       "\n",
       "    .dataframe thead th {\n",
       "        text-align: right;\n",
       "    }\n",
       "</style>\n",
       "<table border=\"1\" class=\"dataframe\">\n",
       "  <thead>\n",
       "    <tr style=\"text-align: right;\">\n",
       "      <th></th>\n",
       "      <th>num_projects</th>\n",
       "      <th>total_amount</th>\n",
       "    </tr>\n",
       "    <tr>\n",
       "      <th>country</th>\n",
       "      <th></th>\n",
       "      <th></th>\n",
       "    </tr>\n",
       "  </thead>\n",
       "  <tbody>\n",
       "    <tr>\n",
       "      <td>India</td>\n",
       "      <td>16</td>\n",
       "      <td>2595700000</td>\n",
       "    </tr>\n",
       "    <tr>\n",
       "      <td>Brazil</td>\n",
       "      <td>9</td>\n",
       "      <td>2326200000</td>\n",
       "    </tr>\n",
       "    <tr>\n",
       "      <td>Indonesia</td>\n",
       "      <td>19</td>\n",
       "      <td>2045500000</td>\n",
       "    </tr>\n",
       "    <tr>\n",
       "      <td>Vietnam</td>\n",
       "      <td>17</td>\n",
       "      <td>1832400000</td>\n",
       "    </tr>\n",
       "    <tr>\n",
       "      <td>Bangladesh</td>\n",
       "      <td>12</td>\n",
       "      <td>1566500000</td>\n",
       "    </tr>\n",
       "  </tbody>\n",
       "</table>\n",
       "</div>"
      ],
      "text/plain": [
       "            num_projects  total_amount\n",
       "country                               \n",
       "India                 16    2595700000\n",
       "Brazil                 9    2326200000\n",
       "Indonesia             19    2045500000\n",
       "Vietnam               17    1832400000\n",
       "Bangladesh            12    1566500000"
      ]
     },
     "execution_count": 141,
     "metadata": {},
     "output_type": "execute_result"
    }
   ],
   "source": [
    "projects_by_country_pd.head()"
   ]
  },
  {
   "cell_type": "code",
   "execution_count": 142,
   "metadata": {},
   "outputs": [
    {
     "data": {
      "text/plain": [
       "num_projects            6\n",
       "total_amount    125000000\n",
       "Name: Peru, dtype: int64"
      ]
     },
     "execution_count": 142,
     "metadata": {},
     "output_type": "execute_result"
    }
   ],
   "source": [
    "projects_by_country_pd.loc['Peru']"
   ]
  },
  {
   "cell_type": "code",
   "execution_count": 143,
   "metadata": {},
   "outputs": [
    {
     "data": {
      "text/plain": [
       "<matplotlib.axes._subplots.AxesSubplot at 0x21ea20acac8>"
      ]
     },
     "execution_count": 143,
     "metadata": {},
     "output_type": "execute_result"
    }
   ],
   "source": [
    "projects_by_country_pd['num_projects'][:10].plot(kind='barh', rot=0, )"
   ]
  },
  {
   "cell_type": "code",
   "execution_count": null,
   "metadata": {
    "collapsed": true
   },
   "outputs": [],
   "source": []
  }
 ],
 "metadata": {
  "kernelspec": {
   "display_name": "Python 3",
   "language": "python",
   "name": "python3"
  },
  "language_info": {
   "codemirror_mode": {
    "name": "ipython",
    "version": 3
   },
   "file_extension": ".py",
   "mimetype": "text/x-python",
   "name": "python",
   "nbconvert_exporter": "python",
   "pygments_lexer": "ipython3",
   "version": "3.7.4"
  }
 },
 "nbformat": 4,
 "nbformat_minor": 1
}
